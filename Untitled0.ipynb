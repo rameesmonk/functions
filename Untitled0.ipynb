{
  "nbformat": 4,
  "nbformat_minor": 0,
  "metadata": {
    "colab": {
      "provenance": []
    },
    "kernelspec": {
      "name": "python3",
      "display_name": "Python 3"
    },
    "language_info": {
      "name": "python"
    }
  },
  "cells": [
    {
      "cell_type": "code",
      "execution_count": null,
      "metadata": {
        "id": "Q_1xd63w0oP-"
      },
      "outputs": [],
      "source": []
    },
    {
      "cell_type": "markdown",
      "source": [
        "# Functions\n",
        "1. what is the differemnce ?\n",
        "    - as as a\n",
        "2. second qn >?\n",
        "  - asss asia"
      ],
      "metadata": {
        "id": "JzH1orzl0p0i"
      }
    },
    {
      "cell_type": "code",
      "source": [
        "'''\n",
        "asda\n",
        "as\n",
        "as\n",
        "'''\n",
        "\"\"\"\n",
        "asa\n",
        "\"\"\"\n",
        "\n",
        "#asdasda sd asd asd\n"
      ],
      "metadata": {
        "id": "ms77H8Fi0_eT"
      },
      "execution_count": null,
      "outputs": []
    }
  ]
}